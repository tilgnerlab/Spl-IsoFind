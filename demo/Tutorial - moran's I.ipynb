{
 "cells": [
  {
   "cell_type": "code",
   "execution_count": 1,
   "id": "cf5a3e73-04ba-497c-b752-fc22dd12a9b9",
   "metadata": {},
   "outputs": [
    {
     "name": "stderr",
     "output_type": "stream",
     "text": [
      "/athena/tilgnerlab/scratch/lim4020/2022_08_15_PSIprediction/envs/spateo/lib/python3.9/site-packages/pyproj/__init__.py:89: UserWarning: pyproj unable to set database path.\n",
      "  _pyproj_global_context_initialize()\n"
     ]
    }
   ],
   "source": [
    "from Code.preprocess import *\n",
    "from Code.moransI import *\n",
    "from Code.plotting import *"
   ]
  },
  {
   "cell_type": "markdown",
   "id": "92c0ede5-f9e0-4780-bf84-7866f79cc0e7",
   "metadata": {},
   "source": [
    "### Construct isoform matrix with relative expression\n",
    "\n",
    "The create isoform matrix saves a sparse matrix, and corresponding index and column labels to the output folder. \n",
    "\n",
    "NOTE: this is the same step as we do before plotting the results, you only have to do this once"
   ]
  },
  {
   "cell_type": "code",
   "execution_count": 2,
   "id": "5448acdc-7f8e-4156-b017-df987e17eec9",
   "metadata": {},
   "outputs": [
    {
     "name": "stdout",
     "output_type": "stream",
     "text": [
      "Potentially interesting isoforms (total): 145\n",
      "Potentially interesting isoforms (novel): 44\n"
     ]
    },
    {
     "data": {
      "application/vnd.jupyter.widget-view+json": {
       "model_id": "4cfef8195dc944a7a92465dbb0fa36ab",
       "version_major": 2,
       "version_minor": 0
      },
      "text/plain": [
       "  0%|          | 0/198 [00:00<?, ?it/s]"
      ]
     },
     "metadata": {},
     "output_type": "display_data"
    }
   ],
   "source": [
    "fn_allinfo = 'Data/allinfo_ds.filtered.labeled.gz'\n",
    "fn_CIDmap = 'Data/sample1_barcodeToPos.CellID_ds.tsv.gz'\n",
    "fn_adata = 'Data/sample1_cellbin_adjusted.h5ad'\n",
    "output = 'Data/isoform_matrix'\n",
    "\n",
    "create_isoform_matrix(fn_allinfo,\n",
    "                      fn_CIDmap,\n",
    "                      fn_adata,\n",
    "                      output)"
   ]
  },
  {
   "cell_type": "code",
   "execution_count": 3,
   "id": "00f88e7f-1ce3-4008-9c63-76048ed2c07c",
   "metadata": {},
   "outputs": [],
   "source": [
    "x, labels = sparse2df(input_dir = output)"
   ]
  },
  {
   "cell_type": "markdown",
   "id": "3890926a-fa82-45e1-a5f7-77c94213ae28",
   "metadata": {},
   "source": [
    "### Calculate Moran's I \n",
    "\n",
    "For all cells ('All') and for the four major cell types. \n",
    "\n",
    "The running time mainly depends on the number of cells, number of tested isoforms, and number of permutations. Doing 1e6 permutations will take ~10min for this demo dataset.\n",
    "\n",
    "The moran's I function returns 2 dataframes: \n",
    "- pval: the uncorrected p-values \n",
    "- qval: Benjamini-Yekutieli corrected values\n",
    "\n",
    "NaN indicates that a specific isoform-celltype combination did not fulfill the testing criteria (e.g. not enough cells)."
   ]
  },
  {
   "cell_type": "code",
   "execution_count": 4,
   "id": "98956d1a-9671-43a4-b138-a8d74ff31581",
   "metadata": {},
   "outputs": [
    {
     "data": {
      "application/vnd.jupyter.widget-view+json": {
       "model_id": "1dd6c33102c54437ad5943a01473bf2c",
       "version_major": 2,
       "version_minor": 0
      },
      "text/plain": [
       "  0%|          | 0/145 [00:00<?, ?it/s]"
      ]
     },
     "metadata": {},
     "output_type": "display_data"
    }
   ],
   "source": [
    "pval, qval = moransI(x=x,\n",
    "                    labels=labels, \n",
    "                    celltypes=['All','ExciteNeuron','InhibNeuron','Astro','Oligo'],\n",
    "                    output_dir='Data/moransI')"
   ]
  },
  {
   "cell_type": "code",
   "execution_count": 5,
   "id": "bae9b9d1-2b74-4479-82d3-0a6e8d13ea16",
   "metadata": {},
   "outputs": [
    {
     "data": {
      "text/html": [
       "<div>\n",
       "<style scoped>\n",
       "    .dataframe tbody tr th:only-of-type {\n",
       "        vertical-align: middle;\n",
       "    }\n",
       "\n",
       "    .dataframe tbody tr th {\n",
       "        vertical-align: top;\n",
       "    }\n",
       "\n",
       "    .dataframe thead th {\n",
       "        text-align: right;\n",
       "    }\n",
       "</style>\n",
       "<table border=\"1\" class=\"dataframe\">\n",
       "  <thead>\n",
       "    <tr style=\"text-align: right;\">\n",
       "      <th></th>\n",
       "      <th>All</th>\n",
       "      <th>ExciteNeuron</th>\n",
       "      <th>InhibNeuron</th>\n",
       "      <th>Astro</th>\n",
       "      <th>Oligo</th>\n",
       "    </tr>\n",
       "  </thead>\n",
       "  <tbody>\n",
       "    <tr>\n",
       "      <th>ENSMUST00000000388.15</th>\n",
       "      <td>0.354046</td>\n",
       "      <td>0.015590</td>\n",
       "      <td>NaN</td>\n",
       "      <td>NaN</td>\n",
       "      <td>NaN</td>\n",
       "    </tr>\n",
       "    <tr>\n",
       "      <th>transcript4361.chr11.nnic</th>\n",
       "      <td>0.351666</td>\n",
       "      <td>0.479775</td>\n",
       "      <td>NaN</td>\n",
       "      <td>NaN</td>\n",
       "      <td>NaN</td>\n",
       "    </tr>\n",
       "    <tr>\n",
       "      <th>transcript4375.chr11.nnic</th>\n",
       "      <td>0.054219</td>\n",
       "      <td>NaN</td>\n",
       "      <td>NaN</td>\n",
       "      <td>NaN</td>\n",
       "      <td>NaN</td>\n",
       "    </tr>\n",
       "    <tr>\n",
       "      <th>ENSMUST00000003027.14</th>\n",
       "      <td>0.004460</td>\n",
       "      <td>NaN</td>\n",
       "      <td>NaN</td>\n",
       "      <td>NaN</td>\n",
       "      <td>NaN</td>\n",
       "    </tr>\n",
       "    <tr>\n",
       "      <th>ENSMUST00000110998.9</th>\n",
       "      <td>0.030400</td>\n",
       "      <td>NaN</td>\n",
       "      <td>NaN</td>\n",
       "      <td>NaN</td>\n",
       "      <td>NaN</td>\n",
       "    </tr>\n",
       "  </tbody>\n",
       "</table>\n",
       "</div>"
      ],
      "text/plain": [
       "                                All  ExciteNeuron  InhibNeuron  Astro  Oligo\n",
       "ENSMUST00000000388.15      0.354046      0.015590          NaN    NaN    NaN\n",
       "transcript4361.chr11.nnic  0.351666      0.479775          NaN    NaN    NaN\n",
       "transcript4375.chr11.nnic  0.054219           NaN          NaN    NaN    NaN\n",
       "ENSMUST00000003027.14      0.004460           NaN          NaN    NaN    NaN\n",
       "ENSMUST00000110998.9       0.030400           NaN          NaN    NaN    NaN"
      ]
     },
     "execution_count": 5,
     "metadata": {},
     "output_type": "execute_result"
    }
   ],
   "source": [
    "pval.head()"
   ]
  },
  {
   "cell_type": "code",
   "execution_count": 6,
   "id": "a5327a13-5f82-47b4-b802-5b932c186768",
   "metadata": {},
   "outputs": [
    {
     "data": {
      "text/html": [
       "<div>\n",
       "<style scoped>\n",
       "    .dataframe tbody tr th:only-of-type {\n",
       "        vertical-align: middle;\n",
       "    }\n",
       "\n",
       "    .dataframe tbody tr th {\n",
       "        vertical-align: top;\n",
       "    }\n",
       "\n",
       "    .dataframe thead th {\n",
       "        text-align: right;\n",
       "    }\n",
       "</style>\n",
       "<table border=\"1\" class=\"dataframe\">\n",
       "  <thead>\n",
       "    <tr style=\"text-align: right;\">\n",
       "      <th></th>\n",
       "      <th>All</th>\n",
       "      <th>ExciteNeuron</th>\n",
       "      <th>InhibNeuron</th>\n",
       "      <th>Astro</th>\n",
       "      <th>Oligo</th>\n",
       "    </tr>\n",
       "  </thead>\n",
       "  <tbody>\n",
       "    <tr>\n",
       "      <th>ENSMUST00000000388.15</th>\n",
       "      <td>1.000000</td>\n",
       "      <td>0.596912</td>\n",
       "      <td>NaN</td>\n",
       "      <td>NaN</td>\n",
       "      <td>NaN</td>\n",
       "    </tr>\n",
       "    <tr>\n",
       "      <th>transcript4361.chr11.nnic</th>\n",
       "      <td>1.000000</td>\n",
       "      <td>1.000000</td>\n",
       "      <td>NaN</td>\n",
       "      <td>NaN</td>\n",
       "      <td>NaN</td>\n",
       "    </tr>\n",
       "    <tr>\n",
       "      <th>transcript4375.chr11.nnic</th>\n",
       "      <td>1.000000</td>\n",
       "      <td>NaN</td>\n",
       "      <td>NaN</td>\n",
       "      <td>NaN</td>\n",
       "      <td>NaN</td>\n",
       "    </tr>\n",
       "    <tr>\n",
       "      <th>ENSMUST00000003027.14</th>\n",
       "      <td>0.160831</td>\n",
       "      <td>NaN</td>\n",
       "      <td>NaN</td>\n",
       "      <td>NaN</td>\n",
       "      <td>NaN</td>\n",
       "    </tr>\n",
       "    <tr>\n",
       "      <th>ENSMUST00000110998.9</th>\n",
       "      <td>0.707255</td>\n",
       "      <td>NaN</td>\n",
       "      <td>NaN</td>\n",
       "      <td>NaN</td>\n",
       "      <td>NaN</td>\n",
       "    </tr>\n",
       "  </tbody>\n",
       "</table>\n",
       "</div>"
      ],
      "text/plain": [
       "                                All  ExciteNeuron  InhibNeuron  Astro  Oligo\n",
       "ENSMUST00000000388.15      1.000000      0.596912          NaN    NaN    NaN\n",
       "transcript4361.chr11.nnic  1.000000      1.000000          NaN    NaN    NaN\n",
       "transcript4375.chr11.nnic  1.000000           NaN          NaN    NaN    NaN\n",
       "ENSMUST00000003027.14      0.160831           NaN          NaN    NaN    NaN\n",
       "ENSMUST00000110998.9       0.707255           NaN          NaN    NaN    NaN"
      ]
     },
     "execution_count": 6,
     "metadata": {},
     "output_type": "execute_result"
    }
   ],
   "source": [
    "qval.head()"
   ]
  },
  {
   "cell_type": "markdown",
   "id": "a3f950d3-9c5f-4ed3-9055-9a6ffc950e43",
   "metadata": {},
   "source": [
    "Number of significant isoforms per celltype"
   ]
  },
  {
   "cell_type": "code",
   "execution_count": 7,
   "id": "ea642f70-e34a-4045-af29-d64ad8a58690",
   "metadata": {},
   "outputs": [
    {
     "data": {
      "text/plain": [
       "All             17\n",
       "ExciteNeuron     7\n",
       "InhibNeuron      2\n",
       "Astro            2\n",
       "Oligo            0\n",
       "dtype: int64"
      ]
     },
     "execution_count": 7,
     "metadata": {},
     "output_type": "execute_result"
    }
   ],
   "source": [
    "(qval <= 0.05).sum()"
   ]
  },
  {
   "cell_type": "markdown",
   "id": "f9a78cc6-de9d-4474-88a2-bb4001c70a61",
   "metadata": {},
   "source": [
    "### Cell-type constrained permutations\n",
    "\n",
    "For the significant isoforms using all cells, we run Moran's I with cell-type constrained permutations. This way we can check whether significance is caused by one or more cell types causing splicing changes (p-value will still be significant) or because of different cell-type proportions between the regions (p-value won't be significant anymore).\n",
    "\n",
    "This function is significantly slower, so we only run it on the significant isoforms. This will take ~1h to run on the demo dataset."
   ]
  },
  {
   "cell_type": "code",
   "execution_count": 8,
   "id": "d714b173-2c13-427b-a728-13d8d9815e89",
   "metadata": {},
   "outputs": [],
   "source": [
    "iso_sign = qval.index[qval['All'] <= 0.05]"
   ]
  },
  {
   "cell_type": "code",
   "execution_count": null,
   "id": "fc135d4f-f15d-4088-9fe2-5a1606c961cf",
   "metadata": {},
   "outputs": [
    {
     "data": {
      "application/vnd.jupyter.widget-view+json": {
       "model_id": "10197cbbfbf6422ea90836a48225d0db",
       "version_major": 2,
       "version_minor": 0
      },
      "text/plain": [
       "  0%|          | 0/17 [00:00<?, ?it/s]"
      ]
     },
     "metadata": {},
     "output_type": "display_data"
    }
   ],
   "source": [
    "res = moransI_ctperm(x=x, \n",
    "                     labels=labels, \n",
    "                     variables=iso_sign)"
   ]
  },
  {
   "cell_type": "code",
   "execution_count": null,
   "id": "e0d98ff6-bea6-449e-bdd9-72faac3a9b4f",
   "metadata": {},
   "outputs": [],
   "source": [
    "res.head()"
   ]
  },
  {
   "cell_type": "code",
   "execution_count": null,
   "id": "cd90eedd-a32c-4824-8b17-05086ba37008",
   "metadata": {},
   "outputs": [],
   "source": [
    "import seaborn as sns \n",
    "from matplotlib import pyplot as plt\n",
    "\n",
    "g = sns.jointplot(\n",
    "    x=-np.log10(res['Original']),\n",
    "    y=-np.log10(res['New']),\n",
    "    marginal_kws={\"binwidth\": 0.1, \"binrange\": [0.05, 4.05]},\n",
    "    height=2.5, s=5,\n",
    "    ratio=4\n",
    ")\n",
    "\n",
    "# Add x = y line\n",
    "lims = [\n",
    "    np.min([g.ax_joint.get_xlim(), g.ax_joint.get_ylim()]),  # min of both axes\n",
    "    np.max([g.ax_joint.get_xlim(), g.ax_joint.get_ylim()])   # max of both axes\n",
    "]\n",
    "g.ax_joint.plot(lims, lims, '--', color='gray', linewidth=0.5)  # diagonal line\n",
    "g.ax_joint.set_xlim(lims)\n",
    "g.ax_joint.set_ylim(lims)\n",
    "\n",
    "# Set axis labels\n",
    "g.set_axis_labels('Normal permutations \\n-log10(p-value)',\n",
    "                  'Cell-type constrained \\n-log10(p-value)')\n",
    "plt.show()"
   ]
  },
  {
   "cell_type": "markdown",
   "id": "6f1a2189-95c1-4467-a48d-4019d7f85cb9",
   "metadata": {},
   "source": [
    "For most isoforms, the p-value of the normal and cell-type constrained permutations are very similar. For some, however, we see a big difference. Let's plot an example of both."
   ]
  },
  {
   "cell_type": "code",
   "execution_count": null,
   "id": "768fbcea-33e6-435b-af7a-2b9e02508645",
   "metadata": {},
   "outputs": [],
   "source": [
    "res.sort_values('New')"
   ]
  },
  {
   "cell_type": "code",
   "execution_count": null,
   "id": "f67f370a-494a-4d0d-ac09-b642c75aa214",
   "metadata": {},
   "outputs": [],
   "source": [
    "from PIL import Image\n",
    "Image.MAX_IMAGE_PIXELS = 553190400\n",
    "\n",
    "im_reg = Image.open('Data/Sample1_ssDNA_regist.tif')\n",
    "imarray = np.array(im_reg)"
   ]
  },
  {
   "cell_type": "code",
   "execution_count": null,
   "id": "88537f9a-a5d5-4249-bee9-b6615e7a81ef",
   "metadata": {},
   "outputs": [],
   "source": [
    "xlim1=5000\n",
    "xlim2=17000\n",
    "ylim1=4450\n",
    "ylim2=18000"
   ]
  },
  {
   "cell_type": "markdown",
   "id": "b5abfb0f-841d-4609-96cd-40a01a4ffce6",
   "metadata": {},
   "source": [
    "For example, within Snap25 has the lowest p-value possible using both normal and cell-type constrained permutations and we see spatial variation within excitatory and inhibitory neurons"
   ]
  },
  {
   "cell_type": "code",
   "execution_count": null,
   "id": "e5c821dd-3cb5-4177-8c5e-4c18b53a0cc9",
   "metadata": {},
   "outputs": [],
   "source": [
    "isoform = 'ENSMUST00000028727.11'\n",
    "\n",
    "res.loc[isoform]"
   ]
  },
  {
   "cell_type": "code",
   "execution_count": null,
   "id": "52619321-9dd9-4d9e-9540-e0494ccdc380",
   "metadata": {},
   "outputs": [],
   "source": [
    "spatial_hexplot(x=x, \n",
    "                labels=labels, \n",
    "                imarray=imarray,\n",
    "                varName=isoform, \n",
    "                celltype='', \n",
    "                hexsize=350,\n",
    "                plot_lim=[xlim1, xlim2, ylim1, ylim2])\n",
    "plt.show()\n",
    "\n",
    "for ct in ['ExciteNeuron', 'InhibNeuron', 'Oligo', 'Astro']:\n",
    "    spatial_hexplot(x=x, \n",
    "                    labels=labels, \n",
    "                    imarray=imarray,\n",
    "                    varName=isoform, \n",
    "                    celltype=ct, \n",
    "                    hexsize=350,\n",
    "                    plot_lim=[xlim1, xlim2, ylim1, ylim2])\n",
    "    plt.show()\n"
   ]
  },
  {
   "cell_type": "markdown",
   "id": "dbd983bd-5077-478c-adc6-84b673f1ce34",
   "metadata": {},
   "source": [
    "A counter example is an isoform of Apbb1. The spatial pattern using all cells is just caused by differences between excitatory neurons (which show some expression of this isoform) compared to the other cell types."
   ]
  },
  {
   "cell_type": "code",
   "execution_count": null,
   "id": "9b4aa449-eba3-41ca-b7f6-d6db25aad793",
   "metadata": {},
   "outputs": [],
   "source": [
    "isoform = 'ENSMUST00000188368.7'\n",
    "\n",
    "res.loc[isoform]"
   ]
  },
  {
   "cell_type": "code",
   "execution_count": null,
   "id": "9fdf8cc2-c19e-4def-b913-35a63fedc6af",
   "metadata": {},
   "outputs": [],
   "source": [
    "spatial_hexplot(x=x, \n",
    "                labels=labels, \n",
    "                imarray=imarray,\n",
    "                varName=isoform, \n",
    "                celltype='', \n",
    "                hexsize=350,\n",
    "                plot_lim=[xlim1, xlim2, ylim1, ylim2])\n",
    "plt.show()\n",
    "\n",
    "for ct in ['ExciteNeuron', 'InhibNeuron', 'Oligo', 'Astro']:\n",
    "    spatial_hexplot(x=x, \n",
    "                    labels=labels, \n",
    "                    imarray=imarray,\n",
    "                    varName=isoform, \n",
    "                    celltype=ct, \n",
    "                    hexsize=350,\n",
    "                    plot_lim=[xlim1, xlim2, ylim1, ylim2])\n",
    "    plt.show()\n"
   ]
  },
  {
   "cell_type": "code",
   "execution_count": null,
   "id": "f1e433a9-d101-42b3-ae7d-931d9d2ef58a",
   "metadata": {},
   "outputs": [],
   "source": []
  }
 ],
 "metadata": {
  "kernelspec": {
   "display_name": "Python 3 (ipykernel)",
   "language": "python",
   "name": "python3"
  },
  "language_info": {
   "codemirror_mode": {
    "name": "ipython",
    "version": 3
   },
   "file_extension": ".py",
   "mimetype": "text/x-python",
   "name": "python",
   "nbconvert_exporter": "python",
   "pygments_lexer": "ipython3",
   "version": "3.9.19"
  }
 },
 "nbformat": 4,
 "nbformat_minor": 5
}
